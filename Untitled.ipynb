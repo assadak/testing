{
 "cells": [
  {
   "cell_type": "code",
   "execution_count": null,
   "id": "df94b12f-dd27-4dce-8997-d5840f452285",
   "metadata": {},
   "outputs": [],
   "source": [
    "for i in range(1,5):\n",
    "  print(i)"
   ]
  }
 ],
 "metadata": {
  "kernelspec": {
   "display_name": "Python 3",
   "language": "python",
   "name": "python3"
  },
  "language_info": {
   "codemirror_mode": {
    "name": "ipython",
    "version": 3
   },
   "file_extension": ".py",
   "mimetype": "text/x-python",
   "name": "python",
   "nbconvert_exporter": "python",
   "pygments_lexer": "ipython3",
   "version": "3.8.8"
  }
 },
 "nbformat": 4,
 "nbformat_minor": 5
}
